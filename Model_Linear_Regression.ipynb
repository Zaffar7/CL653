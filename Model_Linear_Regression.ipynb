{
 "cells": [
  {
   "cell_type": "code",
   "execution_count": 1,
   "id": "4f2622a2-803e-4044-8732-1c7a4cff9fde",
   "metadata": {},
   "outputs": [],
   "source": [
    "import numpy as np\n",
    "import pandas as pd\n",
    "import matplotlib.pyplot as plt\n",
    "from sklearn.model_selection import train_test_split\n",
    "from sklearn.linear_model import LinearRegression\n",
    "from sklearn.metrics import r2_score, mean_squared_error"
   ]
  },
  {
   "cell_type": "code",
   "execution_count": 2,
   "id": "fa3de0ad-c32b-49ff-ae2d-36a04de02d9f",
   "metadata": {},
   "outputs": [
    {
     "data": {
      "text/html": [
       "<div>\n",
       "<style scoped>\n",
       "    .dataframe tbody tr th:only-of-type {\n",
       "        vertical-align: middle;\n",
       "    }\n",
       "\n",
       "    .dataframe tbody tr th {\n",
       "        vertical-align: top;\n",
       "    }\n",
       "\n",
       "    .dataframe thead th {\n",
       "        text-align: right;\n",
       "    }\n",
       "</style>\n",
       "<table border=\"1\" class=\"dataframe\">\n",
       "  <thead>\n",
       "    <tr style=\"text-align: right;\">\n",
       "      <th></th>\n",
       "      <th>Unnamed: 0</th>\n",
       "      <th>C3 Feed Rate</th>\n",
       "      <th>H2C3 Ratio</th>\n",
       "      <th>Reactor Pressure</th>\n",
       "      <th>Reactor Bed Level</th>\n",
       "      <th>C2 Flow Rate</th>\n",
       "      <th>Catalyst Feed Rate</th>\n",
       "      <th>Temperature</th>\n",
       "      <th>Melt Flow Rate (gm/10min)</th>\n",
       "    </tr>\n",
       "  </thead>\n",
       "  <tbody>\n",
       "    <tr>\n",
       "      <th>0</th>\n",
       "      <td>0</td>\n",
       "      <td>0.626039</td>\n",
       "      <td>0.156122</td>\n",
       "      <td>0.605534</td>\n",
       "      <td>0.548468</td>\n",
       "      <td>0.427522</td>\n",
       "      <td>0.216268</td>\n",
       "      <td>0.191178</td>\n",
       "      <td>1.223775</td>\n",
       "    </tr>\n",
       "    <tr>\n",
       "      <th>1</th>\n",
       "      <td>1</td>\n",
       "      <td>0.674735</td>\n",
       "      <td>0.156122</td>\n",
       "      <td>0.625137</td>\n",
       "      <td>0.427020</td>\n",
       "      <td>0.338153</td>\n",
       "      <td>0.164036</td>\n",
       "      <td>0.079761</td>\n",
       "      <td>1.163151</td>\n",
       "    </tr>\n",
       "    <tr>\n",
       "      <th>2</th>\n",
       "      <td>2</td>\n",
       "      <td>0.685611</td>\n",
       "      <td>0.156122</td>\n",
       "      <td>0.595294</td>\n",
       "      <td>0.460480</td>\n",
       "      <td>0.370353</td>\n",
       "      <td>0.194934</td>\n",
       "      <td>0.076631</td>\n",
       "      <td>1.163151</td>\n",
       "    </tr>\n",
       "    <tr>\n",
       "      <th>3</th>\n",
       "      <td>3</td>\n",
       "      <td>0.643364</td>\n",
       "      <td>0.156122</td>\n",
       "      <td>0.689241</td>\n",
       "      <td>0.496188</td>\n",
       "      <td>0.346936</td>\n",
       "      <td>0.197283</td>\n",
       "      <td>0.091450</td>\n",
       "      <td>1.131402</td>\n",
       "    </tr>\n",
       "    <tr>\n",
       "      <th>4</th>\n",
       "      <td>4</td>\n",
       "      <td>0.625850</td>\n",
       "      <td>0.153061</td>\n",
       "      <td>0.651940</td>\n",
       "      <td>0.442636</td>\n",
       "      <td>0.319230</td>\n",
       "      <td>0.153123</td>\n",
       "      <td>0.092592</td>\n",
       "      <td>1.193922</td>\n",
       "    </tr>\n",
       "    <tr>\n",
       "      <th>5</th>\n",
       "      <td>5</td>\n",
       "      <td>0.662255</td>\n",
       "      <td>0.153061</td>\n",
       "      <td>0.609742</td>\n",
       "      <td>0.401205</td>\n",
       "      <td>0.237791</td>\n",
       "      <td>0.180520</td>\n",
       "      <td>0.094256</td>\n",
       "      <td>1.163151</td>\n",
       "    </tr>\n",
       "    <tr>\n",
       "      <th>6</th>\n",
       "      <td>6</td>\n",
       "      <td>0.682297</td>\n",
       "      <td>0.153061</td>\n",
       "      <td>0.606323</td>\n",
       "      <td>0.430902</td>\n",
       "      <td>0.341555</td>\n",
       "      <td>0.220660</td>\n",
       "      <td>0.130759</td>\n",
       "      <td>1.223775</td>\n",
       "    </tr>\n",
       "    <tr>\n",
       "      <th>7</th>\n",
       "      <td>7</td>\n",
       "      <td>0.780051</td>\n",
       "      <td>0.153061</td>\n",
       "      <td>0.621185</td>\n",
       "      <td>0.461491</td>\n",
       "      <td>0.375978</td>\n",
       "      <td>0.210956</td>\n",
       "      <td>0.118081</td>\n",
       "      <td>1.280934</td>\n",
       "    </tr>\n",
       "    <tr>\n",
       "      <th>8</th>\n",
       "      <td>8</td>\n",
       "      <td>0.801381</td>\n",
       "      <td>0.153061</td>\n",
       "      <td>0.568805</td>\n",
       "      <td>0.470063</td>\n",
       "      <td>0.413820</td>\n",
       "      <td>0.208673</td>\n",
       "      <td>0.054441</td>\n",
       "      <td>1.335001</td>\n",
       "    </tr>\n",
       "    <tr>\n",
       "      <th>9</th>\n",
       "      <td>9</td>\n",
       "      <td>0.752457</td>\n",
       "      <td>0.153061</td>\n",
       "      <td>0.568290</td>\n",
       "      <td>0.431514</td>\n",
       "      <td>0.348281</td>\n",
       "      <td>0.182163</td>\n",
       "      <td>0.050776</td>\n",
       "      <td>1.335001</td>\n",
       "    </tr>\n",
       "  </tbody>\n",
       "</table>\n",
       "</div>"
      ],
      "text/plain": [
       "   Unnamed: 0  C3 Feed Rate  H2C3 Ratio  Reactor Pressure  Reactor Bed Level  \\\n",
       "0           0      0.626039    0.156122          0.605534           0.548468   \n",
       "1           1      0.674735    0.156122          0.625137           0.427020   \n",
       "2           2      0.685611    0.156122          0.595294           0.460480   \n",
       "3           3      0.643364    0.156122          0.689241           0.496188   \n",
       "4           4      0.625850    0.153061          0.651940           0.442636   \n",
       "5           5      0.662255    0.153061          0.609742           0.401205   \n",
       "6           6      0.682297    0.153061          0.606323           0.430902   \n",
       "7           7      0.780051    0.153061          0.621185           0.461491   \n",
       "8           8      0.801381    0.153061          0.568805           0.470063   \n",
       "9           9      0.752457    0.153061          0.568290           0.431514   \n",
       "\n",
       "   C2 Flow Rate  Catalyst Feed Rate  Temperature  Melt Flow Rate (gm/10min)  \n",
       "0      0.427522            0.216268     0.191178                   1.223775  \n",
       "1      0.338153            0.164036     0.079761                   1.163151  \n",
       "2      0.370353            0.194934     0.076631                   1.163151  \n",
       "3      0.346936            0.197283     0.091450                   1.131402  \n",
       "4      0.319230            0.153123     0.092592                   1.193922  \n",
       "5      0.237791            0.180520     0.094256                   1.163151  \n",
       "6      0.341555            0.220660     0.130759                   1.223775  \n",
       "7      0.375978            0.210956     0.118081                   1.280934  \n",
       "8      0.413820            0.208673     0.054441                   1.335001  \n",
       "9      0.348281            0.182163     0.050776                   1.335001  "
      ]
     },
     "execution_count": 2,
     "metadata": {},
     "output_type": "execute_result"
    }
   ],
   "source": [
    "data = pd.read_csv('Preprocessed.csv')\n",
    "data.head(10)"
   ]
  },
  {
   "cell_type": "code",
   "execution_count": 3,
   "id": "816d0840-b7ee-4d6e-9db7-c400d2b56a36",
   "metadata": {},
   "outputs": [],
   "source": [
    "data.drop('Unnamed: 0',axis=1,inplace=True)"
   ]
  },
  {
   "cell_type": "code",
   "execution_count": 4,
   "id": "08de154b-2074-4e31-a6a5-bd913e9ef6cb",
   "metadata": {},
   "outputs": [
    {
     "data": {
      "text/html": [
       "<div>\n",
       "<style scoped>\n",
       "    .dataframe tbody tr th:only-of-type {\n",
       "        vertical-align: middle;\n",
       "    }\n",
       "\n",
       "    .dataframe tbody tr th {\n",
       "        vertical-align: top;\n",
       "    }\n",
       "\n",
       "    .dataframe thead th {\n",
       "        text-align: right;\n",
       "    }\n",
       "</style>\n",
       "<table border=\"1\" class=\"dataframe\">\n",
       "  <thead>\n",
       "    <tr style=\"text-align: right;\">\n",
       "      <th></th>\n",
       "      <th>C3 Feed Rate</th>\n",
       "      <th>H2C3 Ratio</th>\n",
       "      <th>Reactor Pressure</th>\n",
       "      <th>Reactor Bed Level</th>\n",
       "      <th>C2 Flow Rate</th>\n",
       "      <th>Catalyst Feed Rate</th>\n",
       "      <th>Temperature</th>\n",
       "      <th>Melt Flow Rate (gm/10min)</th>\n",
       "    </tr>\n",
       "  </thead>\n",
       "  <tbody>\n",
       "    <tr>\n",
       "      <th>0</th>\n",
       "      <td>0.626039</td>\n",
       "      <td>0.156122</td>\n",
       "      <td>0.605534</td>\n",
       "      <td>0.548468</td>\n",
       "      <td>0.427522</td>\n",
       "      <td>0.216268</td>\n",
       "      <td>0.191178</td>\n",
       "      <td>1.223775</td>\n",
       "    </tr>\n",
       "    <tr>\n",
       "      <th>1</th>\n",
       "      <td>0.674735</td>\n",
       "      <td>0.156122</td>\n",
       "      <td>0.625137</td>\n",
       "      <td>0.427020</td>\n",
       "      <td>0.338153</td>\n",
       "      <td>0.164036</td>\n",
       "      <td>0.079761</td>\n",
       "      <td>1.163151</td>\n",
       "    </tr>\n",
       "    <tr>\n",
       "      <th>2</th>\n",
       "      <td>0.685611</td>\n",
       "      <td>0.156122</td>\n",
       "      <td>0.595294</td>\n",
       "      <td>0.460480</td>\n",
       "      <td>0.370353</td>\n",
       "      <td>0.194934</td>\n",
       "      <td>0.076631</td>\n",
       "      <td>1.163151</td>\n",
       "    </tr>\n",
       "    <tr>\n",
       "      <th>3</th>\n",
       "      <td>0.643364</td>\n",
       "      <td>0.156122</td>\n",
       "      <td>0.689241</td>\n",
       "      <td>0.496188</td>\n",
       "      <td>0.346936</td>\n",
       "      <td>0.197283</td>\n",
       "      <td>0.091450</td>\n",
       "      <td>1.131402</td>\n",
       "    </tr>\n",
       "    <tr>\n",
       "      <th>4</th>\n",
       "      <td>0.625850</td>\n",
       "      <td>0.153061</td>\n",
       "      <td>0.651940</td>\n",
       "      <td>0.442636</td>\n",
       "      <td>0.319230</td>\n",
       "      <td>0.153123</td>\n",
       "      <td>0.092592</td>\n",
       "      <td>1.193922</td>\n",
       "    </tr>\n",
       "    <tr>\n",
       "      <th>...</th>\n",
       "      <td>...</td>\n",
       "      <td>...</td>\n",
       "      <td>...</td>\n",
       "      <td>...</td>\n",
       "      <td>...</td>\n",
       "      <td>...</td>\n",
       "      <td>...</td>\n",
       "      <td>...</td>\n",
       "    </tr>\n",
       "    <tr>\n",
       "      <th>2479</th>\n",
       "      <td>0.381397</td>\n",
       "      <td>0.183673</td>\n",
       "      <td>0.761203</td>\n",
       "      <td>0.236022</td>\n",
       "      <td>0.041436</td>\n",
       "      <td>0.091166</td>\n",
       "      <td>0.120345</td>\n",
       "      <td>2.468100</td>\n",
       "    </tr>\n",
       "    <tr>\n",
       "      <th>2480</th>\n",
       "      <td>0.644066</td>\n",
       "      <td>0.183673</td>\n",
       "      <td>0.445135</td>\n",
       "      <td>0.219323</td>\n",
       "      <td>0.348075</td>\n",
       "      <td>0.166389</td>\n",
       "      <td>0.297213</td>\n",
       "      <td>2.415914</td>\n",
       "    </tr>\n",
       "    <tr>\n",
       "      <th>2481</th>\n",
       "      <td>0.282182</td>\n",
       "      <td>0.255102</td>\n",
       "      <td>0.718470</td>\n",
       "      <td>0.221668</td>\n",
       "      <td>0.222784</td>\n",
       "      <td>0.109987</td>\n",
       "      <td>0.217592</td>\n",
       "      <td>2.433613</td>\n",
       "    </tr>\n",
       "    <tr>\n",
       "      <th>2482</th>\n",
       "      <td>0.350380</td>\n",
       "      <td>0.188776</td>\n",
       "      <td>0.160333</td>\n",
       "      <td>0.317594</td>\n",
       "      <td>0.441366</td>\n",
       "      <td>0.175886</td>\n",
       "      <td>0.430668</td>\n",
       "      <td>2.602690</td>\n",
       "    </tr>\n",
       "    <tr>\n",
       "      <th>2483</th>\n",
       "      <td>0.596091</td>\n",
       "      <td>0.188776</td>\n",
       "      <td>0.712219</td>\n",
       "      <td>0.282066</td>\n",
       "      <td>0.149407</td>\n",
       "      <td>0.124736</td>\n",
       "      <td>0.291404</td>\n",
       "      <td>2.509599</td>\n",
       "    </tr>\n",
       "  </tbody>\n",
       "</table>\n",
       "<p>2484 rows × 8 columns</p>\n",
       "</div>"
      ],
      "text/plain": [
       "      C3 Feed Rate  H2C3 Ratio  Reactor Pressure  Reactor Bed Level  \\\n",
       "0         0.626039    0.156122          0.605534           0.548468   \n",
       "1         0.674735    0.156122          0.625137           0.427020   \n",
       "2         0.685611    0.156122          0.595294           0.460480   \n",
       "3         0.643364    0.156122          0.689241           0.496188   \n",
       "4         0.625850    0.153061          0.651940           0.442636   \n",
       "...            ...         ...               ...                ...   \n",
       "2479      0.381397    0.183673          0.761203           0.236022   \n",
       "2480      0.644066    0.183673          0.445135           0.219323   \n",
       "2481      0.282182    0.255102          0.718470           0.221668   \n",
       "2482      0.350380    0.188776          0.160333           0.317594   \n",
       "2483      0.596091    0.188776          0.712219           0.282066   \n",
       "\n",
       "      C2 Flow Rate  Catalyst Feed Rate  Temperature  Melt Flow Rate (gm/10min)  \n",
       "0         0.427522            0.216268     0.191178                   1.223775  \n",
       "1         0.338153            0.164036     0.079761                   1.163151  \n",
       "2         0.370353            0.194934     0.076631                   1.163151  \n",
       "3         0.346936            0.197283     0.091450                   1.131402  \n",
       "4         0.319230            0.153123     0.092592                   1.193922  \n",
       "...            ...                 ...          ...                        ...  \n",
       "2479      0.041436            0.091166     0.120345                   2.468100  \n",
       "2480      0.348075            0.166389     0.297213                   2.415914  \n",
       "2481      0.222784            0.109987     0.217592                   2.433613  \n",
       "2482      0.441366            0.175886     0.430668                   2.602690  \n",
       "2483      0.149407            0.124736     0.291404                   2.509599  \n",
       "\n",
       "[2484 rows x 8 columns]"
      ]
     },
     "execution_count": 4,
     "metadata": {},
     "output_type": "execute_result"
    }
   ],
   "source": [
    "data"
   ]
  },
  {
   "cell_type": "code",
   "execution_count": 5,
   "id": "739ac108-49d0-4905-8f24-98b595bbf1fa",
   "metadata": {},
   "outputs": [
    {
     "data": {
      "text/plain": [
       "((2484, 7), (2484,))"
      ]
     },
     "execution_count": 5,
     "metadata": {},
     "output_type": "execute_result"
    }
   ],
   "source": [
    "X = data.drop(['Melt Flow Rate (gm/10min)'],axis=1)\n",
    "y = data['Melt Flow Rate (gm/10min)']\n",
    "X.shape,y.shape"
   ]
  },
  {
   "cell_type": "markdown",
   "id": "47a7c7f0-9f35-4736-b14b-6095adc7dd6a",
   "metadata": {},
   "source": [
    "### Simple Train Test Split"
   ]
  },
  {
   "cell_type": "code",
   "execution_count": 6,
   "id": "adee32cc-66da-41f9-b778-1608ada225d4",
   "metadata": {},
   "outputs": [
    {
     "data": {
      "text/plain": [
       "((1987, 7), (497, 7), (1987,), (497,))"
      ]
     },
     "execution_count": 6,
     "metadata": {},
     "output_type": "execute_result"
    }
   ],
   "source": [
    "X_train,X_test,y_train,y_test = train_test_split(X,y,test_size=0.2,random_state=42)\n",
    "X_train.shape,X_test.shape,y_train.shape,y_test.shape"
   ]
  },
  {
   "cell_type": "code",
   "execution_count": 7,
   "id": "9f997211-6405-465b-a5e2-6a479580f17d",
   "metadata": {},
   "outputs": [],
   "source": [
    "model_lr = LinearRegression()\n",
    "model_lr.fit(X_train,y_train)\n",
    "# Predict on test set\n",
    "y_pred_lr = model_lr.predict(X_test)"
   ]
  },
  {
   "cell_type": "code",
   "execution_count": 8,
   "id": "ef0b6e33-bb0e-4329-a7e6-166d81e8d151",
   "metadata": {},
   "outputs": [
    {
     "name": "stdout",
     "output_type": "stream",
     "text": [
      "0.3652065001294499\n",
      "0.5031535614332552\n"
     ]
    }
   ],
   "source": [
    "r2 = r2_score(y_test, y_pred_lr)\n",
    "print(r2)\n",
    "rmse = np.sqrt(mean_squared_error(y_test, y_pred_lr))\n",
    "print(rmse)"
   ]
  },
  {
   "cell_type": "markdown",
   "id": "ec2fb4df-5b48-4484-a7bc-1441af1d6d38",
   "metadata": {},
   "source": [
    "#### Visualizations"
   ]
  },
  {
   "cell_type": "code",
   "execution_count": 9,
   "id": "72c7de64-7cbb-4b59-9337-c278012c5dbb",
   "metadata": {},
   "outputs": [
    {
     "data": {
      "image/png": "[encoded data removed]",
      "text/plain": [
       "<Figure size 640x480 with 1 Axes>"
      ]
     },
     "metadata": {},
     "output_type": "display_data"
    }
   ],
   "source": [
    "# plt.scatter(y_train, y_pred_train_lr, label='Train', color='green', marker='^')\n",
    "plt.scatter(y_test, y_pred_lr, color='blue', marker='o')\n",
    "plt.plot([y_test.min(), y_test.max()], [y_test.min(), y_test.max()], 'r--', lw=2)\n",
    "plt.xlabel('True Values')\n",
    "plt.ylabel('Predicted Values')\n",
    "plt.title('True vs. Predicted Values for Test Data')\n",
    "plt.show()"
   ]
  },
  {
   "cell_type": "code",
   "execution_count": 10,
   "id": "79ead24a-56d1-4d59-a470-124335654399",
   "metadata": {},
   "outputs": [
    {
     "data": {
      "image/png": "[encoded data removed]",
      "text/plain": [
       "<Figure size 640x480 with 1 Axes>"
      ]
     },
     "metadata": {},
     "output_type": "display_data"
    }
   ],
   "source": [
    "residuals = y_test - y_pred_lr\n",
    "plt.scatter(y_pred_lr, residuals)\n",
    "plt.axhline(y=0, color='r', linestyle='--', lw=2)\n",
    "plt.xlabel('Predicted Values')\n",
    "plt.ylabel('Residuals')\n",
    "plt.title('Residual Plot')\n",
    "plt.show()"
   ]
  },
  {
   "cell_type": "markdown",
   "id": "bd58f2e0-370f-4802-8d4d-6aebc8b971e1",
   "metadata": {},
   "source": [
    "## K-fold"
   ]
  },
  {
   "cell_type": "code",
   "execution_count": 11,
   "id": "9a18c16d-cc25-4002-90f8-93bb6f6b4b69",
   "metadata": {},
   "outputs": [],
   "source": [
    "from sklearn.model_selection import KFold"
   ]
  },
  {
   "cell_type": "code",
   "execution_count": 12,
   "id": "5a1c165a-6277-4411-b849-df68b270f675",
   "metadata": {},
   "outputs": [
    {
     "name": "stdout",
     "output_type": "stream",
     "text": [
      "Fold 1: R2 score = 0.38525281019349555, RMSE = 0.485845729922875\n",
      "Fold 2: R2 score = 0.38390276842639337, RMSE = 0.4328636550928331\n",
      "Fold 3: R2 score = 0.21712075775655404, RMSE = 0.6052059181556025\n",
      "Fold 4: R2 score = 0.1491903090672546, RMSE = 0.5195445463735691\n",
      "Fold 5: R2 score = 0.1262507547641849, RMSE = 0.5811847357186019\n"
     ]
    }
   ],
   "source": [
    "kf = KFold(n_splits=5)\n",
    "\n",
    "r2_scores = []\n",
    "rmse_scores = []\n",
    "\n",
    "# Perform 5-fold cross-validation\n",
    "for train_index, test_index in kf.split(X):\n",
    "    X_train, X_test = X.iloc[train_index], X.iloc[test_index]\n",
    "    y_train, y_test = y.iloc[train_index], y.iloc[test_index]\n",
    "    \n",
    "    # Fit linear regression model\n",
    "    model = LinearRegression()\n",
    "    model.fit(X_train, y_train)\n",
    "    \n",
    "    # Predict on test set\n",
    "    y_pred = model.predict(X_test)\n",
    "    \n",
    "    # Calculate R2 score\n",
    "    r2 = r2_score(y_test, y_pred)\n",
    "    r2_scores.append(r2)\n",
    "    \n",
    "    # Calculate RMSE\n",
    "    rmse = np.sqrt(mean_squared_error(y_test, y_pred))\n",
    "    rmse_scores.append(rmse)\n",
    "\n",
    "# Print R2 scores and RMSE for each fold\n",
    "for i in range(len(r2_scores)):\n",
    "    print(f\"Fold {i+1}: R2 score = {r2_scores[i]}, RMSE = {rmse_scores[i]}\")"
   ]
  },
  {
   "cell_type": "code",
   "execution_count": null,
   "id": "408b30c9-4a85-4190-ba91-f7e4e073ae83",
   "metadata": {},
   "outputs": [],
   "source": []
  }
 ],
 "metadata": {
  "kernelspec": {
   "display_name": "Python 3 (ipykernel)",
   "language": "python",
   "name": "python3"
  },
  "language_info": {
   "codemirror_mode": {
    "name": "ipython",
    "version": 3
   },
   "file_extension": ".py",
   "mimetype": "text/x-python",
   "name": "python",
   "nbconvert_exporter": "python",
   "pygments_lexer": "ipython3",
   "version": "3.11.5"
  }
 },
 "nbformat": 4,
 "nbformat_minor": 5
}
